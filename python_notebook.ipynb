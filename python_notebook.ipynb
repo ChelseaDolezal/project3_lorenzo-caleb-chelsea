{
 "cells": [
  {
   "cell_type": "code",
   "execution_count": 1,
   "id": "94378d52",
   "metadata": {},
   "outputs": [],
   "source": [
    "from flask import Flask, jsonify\n",
    "from flask_pymongo import PyMongo\n",
    "from flask_cors import CORS"
   ]
  },
  {
   "cell_type": "code",
   "execution_count": 2,
   "id": "7c72f27d",
   "metadata": {},
   "outputs": [
    {
     "data": {
      "text/plain": [
       "<flask_cors.extension.CORS at 0x106e31a50>"
      ]
     },
     "execution_count": 2,
     "metadata": {},
     "output_type": "execute_result"
    }
   ],
   "source": [
    "app = Flask(__name__)\n",
    "CORS(app)"
   ]
  },
  {
   "cell_type": "code",
   "execution_count": 3,
   "id": "0e8a1428",
   "metadata": {},
   "outputs": [],
   "source": [
    "app.config[\"MONGO_URI\"] = \"mongodb://localhost:27017/traffic_accidents\"\n",
    "mongo = PyMongo(app)"
   ]
  },
  {
   "cell_type": "code",
   "execution_count": 4,
   "id": "f0963d31",
   "metadata": {},
   "outputs": [
    {
     "name": "stdout",
     "output_type": "stream",
     "text": [
      " * Serving Flask app '__main__'\n",
      " * Debug mode: on\n"
     ]
    },
    {
     "name": "stderr",
     "output_type": "stream",
     "text": [
      "WARNING: This is a development server. Do not use it in a production deployment. Use a production WSGI server instead.\n",
      " * Running on http://127.0.0.1:5000\n",
      "Press CTRL+C to quit\n",
      " * Restarting with watchdog (fsevents)\n",
      "Traceback (most recent call last):\n",
      "  File \"/Users/lorenzodavis/anaconda3/lib/python3.10/site-packages/ipykernel_launcher.py\", line 15, in <module>\n",
      "    from ipykernel import kernelapp as app\n",
      "  File \"/Users/lorenzodavis/anaconda3/lib/python3.10/site-packages/ipykernel/__init__.py\", line 5, in <module>\n",
      "    from .connect import *  # noqa\n",
      "  File \"/Users/lorenzodavis/anaconda3/lib/python3.10/site-packages/ipykernel/connect.py\", line 11, in <module>\n",
      "    import jupyter_client\n",
      "  File \"/Users/lorenzodavis/anaconda3/lib/python3.10/site-packages/jupyter_client/__init__.py\", line 8, in <module>\n",
      "    from .asynchronous import AsyncKernelClient  # noqa\n",
      "  File \"/Users/lorenzodavis/anaconda3/lib/python3.10/site-packages/jupyter_client/asynchronous/__init__.py\", line 1, in <module>\n",
      "    from .client import AsyncKernelClient  # noqa\n",
      "  File \"/Users/lorenzodavis/anaconda3/lib/python3.10/site-packages/jupyter_client/asynchronous/client.py\", line 8, in <module>\n",
      "    from jupyter_client.client import KernelClient\n",
      "  File \"/Users/lorenzodavis/anaconda3/lib/python3.10/site-packages/jupyter_client/client.py\", line 21, in <module>\n",
      "    from .connect import ConnectionFileMixin\n",
      "  File \"/Users/lorenzodavis/anaconda3/lib/python3.10/site-packages/jupyter_client/connect.py\", line 27, in <module>\n",
      "    from jupyter_core.paths import jupyter_data_dir\n",
      "  File \"/Users/lorenzodavis/anaconda3/lib/python3.10/site-packages/jupyter_core/paths.py\", line 19, in <module>\n",
      "    from pathlib import Path\n",
      "  File \"/Users/lorenzodavis/anaconda3/lib/python3.10/site-packages/pathlib.py\", line 10, in <module>\n",
      "    from collections import Sequence\n",
      "ImportError: cannot import name 'Sequence' from 'collections' (/Users/lorenzodavis/anaconda3/lib/python3.10/collections/__init__.py)\n"
     ]
    },
    {
     "ename": "SystemExit",
     "evalue": "1",
     "output_type": "error",
     "traceback": [
      "An exception has occurred, use %tb to see the full traceback.\n",
      "\u001b[0;31mSystemExit\u001b[0m\u001b[0;31m:\u001b[0m 1\n"
     ]
    },
    {
     "name": "stderr",
     "output_type": "stream",
     "text": [
      "/Users/lorenzodavis/anaconda3/lib/python3.10/site-packages/IPython/core/interactiveshell.py:3468: UserWarning: To exit: use 'exit', 'quit', or Ctrl-D.\n",
      "  warn(\"To exit: use 'exit', 'quit', or Ctrl-D.\", stacklevel=1)\n"
     ]
    }
   ],
   "source": [
    "@app.route('/api/accidents', methods=['GET'])\n",
    "def get_accidents():\n",
    "    accidents = mongo.db.accidents.find()\n",
    "    accidents_list = []\n",
    "    for accident in accidents:\n",
    "        accident_data = {\n",
    "            'Start_Time': accident['Start_Time'],\n",
    "            'End_Time': accident['End_Time'],\n",
    "            'Severity': accident['Severity'],\n",
    "            'Latitude': accident['Latitude'],\n",
    "            'Longitude': accident['Longitude'],\n",
    "            'Description': accident['Description'],\n",
    "            'City': accident['City'],\n",
    "            'State': accident['State'],\n",
    "            'Temperature': accident['Temperature'],\n",
    "            'Visibility': accident['Visibility'],\n",
    "            'Weather_Condition': accident['Weather_Condition'],\n",
    "            'Wind_Speed': accident['Wind_Speed']\n",
    "        }\n",
    "        accidents_list.append(accident_data)\n",
    "    return jsonify(accidents_list)\n",
    "\n",
    "if __name__ == '__main__':\n",
    "    app.run(debug=True)"
   ]
  },
  {
   "cell_type": "code",
   "execution_count": null,
   "id": "2f2ea5c8",
   "metadata": {},
   "outputs": [],
   "source": []
  }
 ],
 "metadata": {
  "kernelspec": {
   "display_name": "Python 3 (ipykernel)",
   "language": "python",
   "name": "python3"
  },
  "language_info": {
   "codemirror_mode": {
    "name": "ipython",
    "version": 3
   },
   "file_extension": ".py",
   "mimetype": "text/x-python",
   "name": "python",
   "nbconvert_exporter": "python",
   "pygments_lexer": "ipython3",
   "version": "3.10.9"
  }
 },
 "nbformat": 4,
 "nbformat_minor": 5
}
